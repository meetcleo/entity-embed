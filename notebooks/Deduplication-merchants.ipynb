{
 "cells": [
  {
   "cell_type": "markdown",
   "metadata": {},
   "source": [
    "# Deduplication Example"
   ]
  },
  {
   "cell_type": "markdown",
   "metadata": {},
   "source": [
    "## Boilerplate"
   ]
  },
  {
   "cell_type": "code",
   "execution_count": 1,
   "metadata": {},
   "outputs": [],
   "source": [
    "%load_ext autoreload\n",
    "%autoreload 2"
   ]
  },
  {
   "cell_type": "code",
   "execution_count": null,
   "metadata": {},
   "outputs": [],
   "source": [
    "from importlib import reload\n",
    "import logging\n",
    "import torch\n",
    "import json\n",
    "reload(logging)\n",
    "logging.basicConfig(format='%(asctime)s %(levelname)s:%(message)s', level=logging.INFO, datefmt='%H:%M:%S')"
   ]
  },
  {
   "cell_type": "code",
   "execution_count": 3,
   "metadata": {},
   "outputs": [],
   "source": [
    "import sys\n",
    "sys.path.insert(0, '..')"
   ]
  },
  {
   "cell_type": "code",
   "execution_count": null,
   "metadata": {},
   "outputs": [],
   "source": [
    "import entity_embed_local\n",
    "from entity_embed_local import EntityEmbedLocal\n"
   ]
  },
  {
   "cell_type": "code",
   "execution_count": 5,
   "metadata": {},
   "outputs": [],
   "source": [
    "import torch\n",
    "torch.set_num_threads(1)\n",
    "\n",
    "import numpy as np\n",
    "import pandas as pd\n",
    "\n",
    "random_seed = 40\n",
    "torch.manual_seed(random_seed)\n",
    "np.random.seed(random_seed)"
   ]
  },
  {
   "cell_type": "markdown",
   "metadata": {},
   "source": [
    "## Load Dataset"
   ]
  },
  {
   "cell_type": "markdown",
   "metadata": {},
   "source": [
    "Let's download the CSV dataset to a temporary directory:"
   ]
  },
  {
   "cell_type": "code",
   "execution_count": null,
   "metadata": {},
   "outputs": [],
   "source": [
    "data = pd.read_csv('data/alias_data.csv',names=['merchant_name','merchant_id','plaid_merchant','plaid_category','avg_tx_amount','count'])\n",
    "dataset = data.groupby('merchant_id').head(200)\n",
    "dataset.avg_tx_amount = dataset.avg_tx_amount.round()\n",
    "dataset = dataset.astype(str)\n",
    "# dataset = dataset[dataset.merchant_id.isin(dataset.merchant_id.unique()[:50000])]\n",
    "dataset['cluster_id'] = pd.factorize(dataset['merchant_id'].tolist())[0]\n"
   ]
  },
  {
   "cell_type": "code",
   "execution_count": 8,
   "metadata": {},
   "outputs": [],
   "source": [
    "mapping = pd.Series(dataset.merchant_name.values,index=dataset.cluster_id).to_dict()\n"
   ]
  },
  {
   "cell_type": "code",
   "execution_count": 9,
   "metadata": {},
   "outputs": [],
   "source": [
    "\n",
    "record_dict = {}\n",
    "cluster_field = 'cluster_id'\n",
    "\n",
    "for current_record_id, record in dataset[['cluster_id','merchant_name','plaid_merchant','plaid_category','avg_tx_amount']].iterrows():\n",
    "    record['id'] = current_record_id\n",
    "    record[cluster_field] = int(record[cluster_field])  # convert cluster_field to int\n",
    "    record_dict[current_record_id] = record.to_dict()"
   ]
  },
  {
   "cell_type": "markdown",
   "metadata": {},
   "source": [
    "How many clusters this dataset has?"
   ]
  },
  {
   "cell_type": "code",
   "execution_count": 10,
   "metadata": {},
   "outputs": [
    {
     "data": {
      "text/plain": [
       "35104"
      ]
     },
     "execution_count": 10,
     "metadata": {},
     "output_type": "execute_result"
    }
   ],
   "source": [
    "cluster_total = len(set(record[cluster_field] for record in record_dict.values()))\n",
    "cluster_total"
   ]
  },
  {
   "cell_type": "markdown",
   "metadata": {},
   "source": [
    "From all clusters, we'll use only 50% for training, and other 15% for validation to test how well we can generalize:"
   ]
  },
  {
   "cell_type": "code",
   "execution_count": 11,
   "metadata": {},
   "outputs": [
    {
     "name": "stderr",
     "output_type": "stream",
     "text": [
      "12:55:26 INFO:Singleton cluster sizes (train, valid, test):(18649, 4662, 7772)\n",
      "12:55:26 INFO:Plural cluster sizes (train, valid, test):(2412, 603, 1006)\n"
     ]
    }
   ],
   "source": [
    "from data_utils import utils\n",
    "\n",
    "train_record_dict, valid_record_dict, test_record_dict = utils.split_record_dict_on_clusters(\n",
    "    record_dict=record_dict,\n",
    "    cluster_field=cluster_field,\n",
    "    train_proportion=0.60,\n",
    "    valid_proportion=0.15,\n",
    "    random_seed=random_seed)"
   ]
  },
  {
   "cell_type": "markdown",
   "metadata": {},
   "source": [
    "Note we're splitting the data on **clusters**, not records, so the record counts vary:"
   ]
  },
  {
   "cell_type": "code",
   "execution_count": 12,
   "metadata": {},
   "outputs": [
    {
     "data": {
      "text/plain": [
       "(26719, 6591, 11098)"
      ]
     },
     "execution_count": 12,
     "metadata": {},
     "output_type": "execute_result"
    }
   ],
   "source": [
    "len(train_record_dict), len(valid_record_dict), len(test_record_dict)"
   ]
  },
  {
   "cell_type": "markdown",
   "metadata": {},
   "source": [
    "## Preprocess"
   ]
  },
  {
   "cell_type": "markdown",
   "metadata": {},
   "source": [
    "We'll perform a very minimal preprocessing of the dataset. We want to simply force ASCII chars, lowercase all chars, and strip leading and trailing whitespace.\n",
    "\n",
    "The fields we'll clean are the ones we'll use:"
   ]
  },
  {
   "cell_type": "code",
   "execution_count": 13,
   "metadata": {},
   "outputs": [],
   "source": [
    "field_list = ['merchant_name','plaid_merchant','plaid_category','avg_tx_amount']"
   ]
  },
  {
   "cell_type": "code",
   "execution_count": 14,
   "metadata": {},
   "outputs": [],
   "source": [
    "import unidecode\n",
    "\n",
    "def clean_str(s):\n",
    "    return unidecode.unidecode(s).lower().strip()\n",
    "\n",
    "for record in record_dict.values():\n",
    "    for field in field_list:\n",
    "        record[field] = clean_str(record[field])"
   ]
  },
  {
   "cell_type": "code",
   "execution_count": 15,
   "metadata": {},
   "outputs": [
    {
     "data": {
      "text/plain": [
       "{'merchant_name': 'dutchbrosll',\n",
       " 'plaid_merchant': 'dutch bros. coffee',\n",
       " 'plaid_category': 'food and drink restaurants coffee shop',\n",
       " 'avg_tx_amount': '-10.0'}"
      ]
     },
     "execution_count": 15,
     "metadata": {},
     "output_type": "execute_result"
    }
   ],
   "source": [
    "utils.subdict(record_dict[2], field_list)"
   ]
  },
  {
   "cell_type": "markdown",
   "metadata": {},
   "source": [
    "Forcing ASCII chars in this dataset is useful to improve recall because there's little difference between accented and not-accented chars here. Also, this dataset contains mostly latin chars."
   ]
  },
  {
   "cell_type": "markdown",
   "metadata": {},
   "source": [
    "## Configure Entity Embed fields"
   ]
  },
  {
   "cell_type": "markdown",
   "metadata": {},
   "source": [
    "Now we will define how record fields will be numericalized and encoded by the neural network. First we set an `alphabet`, here we'll use ASCII numbers, letters, symbols and space:"
   ]
  },
  {
   "cell_type": "code",
   "execution_count": 16,
   "metadata": {},
   "outputs": [
    {
     "data": {
      "text/plain": [
       "'0123456789abcdefghijklmnopqrstuvwxyz!\"#$%&\\'()*+,-./:;<=>?@[\\\\]^_`{|}~ '"
      ]
     },
     "execution_count": 16,
     "metadata": {},
     "output_type": "execute_result"
    }
   ],
   "source": [
    "from data_utils.field_config_parser import DEFAULT_ALPHABET\n",
    "\n",
    "alphabet = DEFAULT_ALPHABET\n",
    "''.join(alphabet)"
   ]
  },
  {
   "cell_type": "markdown",
   "metadata": {},
   "source": [
    "It's worth noting you can use any alphabet you need, so the accent removal we performed is optional."
   ]
  },
  {
   "cell_type": "markdown",
   "metadata": {},
   "source": [
    "Then we set an `field_config_dict`. It defines `field_type`s that determine how fields are processed in the neural network:"
   ]
  },
  {
   "cell_type": "code",
   "execution_count": 17,
   "metadata": {},
   "outputs": [],
   "source": [
    "field_config_dict = {\n",
    "    \n",
    "    'merchant_name': {\n",
    "        'field_type': \"MULTITOKEN\",\n",
    "        'tokenizer': \"entity_embed.default_tokenizer\",\n",
    "        'alphabet': alphabet,\n",
    "        'max_str_len': None,  # compute\n",
    "    },\n",
    "\n",
    "    'merchant_name_semantic': {\n",
    "        'key': 'merchant_name',\n",
    "        'field_type': \"SEMANTIC_MULTITOKEN\",\n",
    "        'tokenizer': \"entity_embed.default_tokenizer\",\n",
    "        'vocab': \"tx_embeddings_large.vec\",\n",
    "        'max_str_len': None,  # compute\n",
    "    },\n",
    "     'avg_tx_amount': {\n",
    "        'field_type': \"STRING\",\n",
    "        'tokenizer': \"entity_embed.default_tokenizer\",\n",
    "        'alphabet': alphabet,\n",
    "        'max_str_len': None,  # compute\n",
    "    },\n",
    "    'avg_tx_amount_semantic': {\n",
    "        'key':\"avg_tx_amount\",\n",
    "        'field_type': \"SEMANTIC_STRING\",\n",
    "        'tokenizer': \"entity_embed.default_tokenizer\",\n",
    "        'vocab': \"tx_embeddings_large.vec\",\n",
    "        'max_str_len': None,  # compute\n",
    "    },\n",
    "    'plaid_merchant': {\n",
    "        'field_type': \"MULTITOKEN\",\n",
    "        'tokenizer': \"entity_embed.default_tokenizer\",\n",
    "        'alphabet': alphabet,\n",
    "        'max_str_len': None,  # compute\n",
    "    },\n",
    "    'plaid_merchant_semantic': {\n",
    "        'key': 'plaid_merchant',\n",
    "        'field_type': \"SEMANTIC_MULTITOKEN\",\n",
    "        'tokenizer': \"entity_embed.default_tokenizer\",\n",
    "        'vocab': \"tx_embeddings_large.vec\",\n",
    "    },\n",
    "    'plaid_category': {\n",
    "        'field_type': \"MULTITOKEN\",\n",
    "        'tokenizer': \"entity_embed.default_tokenizer\",\n",
    "        'alphabet': alphabet,\n",
    "        'max_str_len': None,  # compute\n",
    "    },\n",
    "    'plaid_category_semantic': {\n",
    "        'key': 'plaid_category',\n",
    "        'field_type': \"SEMANTIC_MULTITOKEN\",\n",
    "        'tokenizer': \"entity_embed.default_tokenizer\",\n",
    "        'vocab': \"tx_embeddings_large.vec\",\n",
    "    },\n",
    "}"
   ]
  },
  {
   "cell_type": "markdown",
   "metadata": {},
   "source": [
    "Then we use our `field_config_dict` to get a `record_numericalizer`. This object will convert the strings from our records into tensors for the neural network.\n",
    "\n",
    "The same `record_numericalizer` must be used on ALL data: train, valid, test. This ensures numericalization will be consistent. Therefore, we pass `record_list=record_dict.values()`:"
   ]
  },
  {
   "cell_type": "code",
   "execution_count": 18,
   "metadata": {},
   "outputs": [
    {
     "name": "stderr",
     "output_type": "stream",
     "text": [
      "12:55:27 INFO:For field=merchant_name, computing actual max_str_len\n",
      "12:55:27 INFO:actual_max_str_len=23 must be even to enable NN pooling. Updating to 24\n",
      "12:55:27 INFO:For field=merchant_name, using actual_max_str_len=24\n",
      "12:55:27 INFO:Loading vectors from /Users/adnanshahzada/Cleo/Repos/deduplication/entity-embed/entity_embed/.vector_cache/tx_embeddings_large.vec.pt\n",
      "12:55:29 INFO:For field=avg_tx_amount, computing actual max_str_len\n",
      "12:55:29 INFO:For field=avg_tx_amount, using actual_max_str_len=8\n",
      "12:55:29 INFO:Loading vectors from /Users/adnanshahzada/Cleo/Repos/deduplication/entity-embed/entity_embed/.vector_cache/tx_embeddings_large.vec.pt\n",
      "12:55:30 INFO:For field=plaid_merchant, computing actual max_str_len\n",
      "12:55:30 INFO:actual_max_str_len=23 must be even to enable NN pooling. Updating to 24\n",
      "12:55:30 INFO:For field=plaid_merchant, using actual_max_str_len=24\n",
      "12:55:31 INFO:Loading vectors from /Users/adnanshahzada/Cleo/Repos/deduplication/entity-embed/entity_embed/.vector_cache/tx_embeddings_large.vec.pt\n",
      "12:55:32 INFO:For field=plaid_category, computing actual max_str_len\n",
      "12:55:32 INFO:actual_max_str_len=17 must be even to enable NN pooling. Updating to 18\n",
      "12:55:32 INFO:For field=plaid_category, using actual_max_str_len=18\n",
      "12:55:32 INFO:Loading vectors from /Users/adnanshahzada/Cleo/Repos/deduplication/entity-embed/entity_embed/.vector_cache/tx_embeddings_large.vec.pt\n"
     ]
    }
   ],
   "source": [
    "from data_utils.field_config_parser import FieldConfigDictParser\n",
    "\n",
    "record_numericalizer = FieldConfigDictParser.from_dict(field_config_dict, record_list=record_dict.values())"
   ]
  },
  {
   "cell_type": "markdown",
   "metadata": {},
   "source": [
    "## Initialize Data Module"
   ]
  },
  {
   "cell_type": "markdown",
   "metadata": {},
   "source": [
    "under the hood, Entity Embed uses [pytorch-lightning](https://pytorch-lightning.readthedocs.io/en/latest/), so we need to create a datamodule object:"
   ]
  },
  {
   "cell_type": "code",
   "execution_count": 19,
   "metadata": {},
   "outputs": [],
   "source": [
    "from entity_embed import DeduplicationDataModule\n",
    "\n",
    "batch_size = 32\n",
    "eval_batch_size = 64\n",
    "datamodule = DeduplicationDataModule(\n",
    "    train_record_dict=train_record_dict,\n",
    "    valid_record_dict=valid_record_dict,\n",
    "    test_record_dict=test_record_dict,\n",
    "    cluster_field=cluster_field,\n",
    "    record_numericalizer=record_numericalizer,\n",
    "    batch_size=batch_size,\n",
    "    eval_batch_size=eval_batch_size,\n",
    "    random_seed=random_seed,\n",
    "    train_loader_kwargs ={\"num_workers\":0,\"multiprocessing_context\":\"fork\"},\n",
    "    eval_loader_kwargs ={\"num_workers\":0,\"multiprocessing_context\":\"fork\"},\n",
    ")"
   ]
  },
  {
   "cell_type": "markdown",
   "metadata": {},
   "source": [
    "We've used `DeduplicationDataModule` because we're doing Deduplication of a single dataset/table (a.k.a. Entity Clustering, Entity Resolution, etc.).\n",
    "\n",
    "We're NOT doing Record Linkage of two datasets here. Check the other notebook [Record-Linkage-Example](./Record-Linkage-Example.ipynb) if you want to learn how to do it with Entity Embed."
   ]
  },
  {
   "cell_type": "markdown",
   "metadata": {},
   "source": [
    "## Training"
   ]
  },
  {
   "cell_type": "markdown",
   "metadata": {},
   "source": [
    "Now the training process! Thanks to pytorch-lightning, it's easy to train, validate, and test with the same datamodule.\n",
    "\n",
    "We must choose the K of the Approximate Nearest Neighbors, i.e., the top K neighbors our model will use to find duplicates in the embedding space. Below we're setting it on `ann_k` and initializing the `EntityEmbed` model object:"
   ]
  },
  {
   "cell_type": "code",
   "execution_count": 29,
   "metadata": {},
   "outputs": [
    {
     "name": "stdout",
     "output_type": "stream",
     "text": [
      "setting embedding size to 100\n"
     ]
    }
   ],
   "source": [
    "from entity_embed_local import EntityEmbedLocal\n",
    "\n",
    "ann_k = 15\n",
    "model = EntityEmbedLocal(\n",
    "    record_numericalizer,\n",
    "    ann_k=ann_k,\n",
    "    embedding_size=100,\n",
    "    )"
   ]
  },
  {
   "cell_type": "markdown",
   "metadata": {},
   "source": [
    "To train, Entity Embed uses [pytorch-lightning Trainer](https://pytorch-lightning.readthedocs.io/en/latest/common/trainer.html) on it's `EntityEmbed.fit` method.\n",
    "\n",
    "Since Entity Embed is focused in recall, we'll use `valid_recall_at_0.3` for early stopping. But we'll set `min_epochs = 5` to avoid a very low precision.\n",
    "\n",
    "`0.3` here is the threshold for **cosine similarity of embedding vectors**, so possible values are between -1 and 1. We're using a validation metric, and the training process will run validation on every epoch end due to `check_val_every_n_epoch=1`.\n",
    "\n",
    "We also set `tb_name` and `tb_save_dir` to use Tensorboard. Run `tensorboard --logdir notebooks/tb_logs` to check the train and valid metrics during and after training."
   ]
  },
  {
   "cell_type": "code",
   "execution_count": 30,
   "metadata": {
    "scrolled": false
   },
   "outputs": [
    {
     "name": "stderr",
     "output_type": "stream",
     "text": [
      "13:50:27 INFO:GPU available: False, used: False\n",
      "13:50:27 INFO:TPU available: False, using: 0 TPU cores\n"
     ]
    },
    {
     "name": "stdout",
     "output_type": "stream",
     "text": [
      "calling up trainer....\n"
     ]
    },
    {
     "name": "stderr",
     "output_type": "stream",
     "text": [
      "13:51:20 INFO:\n",
      "  | Name        | Type       | Params\n",
      "-------------------------------------------\n",
      "0 | blocker_net | BlockerNet | 6.6 M \n",
      "1 | loss_fn     | SupConLoss | 0     \n",
      "-------------------------------------------\n",
      "2.3 M     Trainable params\n",
      "4.3 M     Non-trainable params\n",
      "6.6 M     Total params\n",
      "26.554    Total estimated model params size (MB)\n"
     ]
    },
    {
     "name": "stdout",
     "output_type": "stream",
     "text": [
      "Epoch 4: 100%|██████████| 1019/1019 [04:07<00:00,  4.12it/s, loss=0.818, v_num=27]"
     ]
    },
    {
     "name": "stderr",
     "output_type": "stream",
     "text": [
      "14:10:50 INFO:Loading the best validation model from /Users/adnanshahzada/Cleo/Repos/deduplication/entity-embed/entity_embed/models/epoch=1-step=1832-v7.ckpt...\n"
     ]
    },
    {
     "name": "stdout",
     "output_type": "stream",
     "text": [
      "\n",
      "setting embedding size to 100\n"
     ]
    }
   ],
   "source": [
    "\n",
    "trainer = model.fit(\n",
    "    datamodule,\n",
    "    min_epochs=2,\n",
    "    max_epochs=5,\n",
    "    check_val_every_n_epoch=1,\n",
    "    early_stop_monitor=\"valid_recall_at_0.7\",\n",
    "    model_save_dir='models',\n",
    "    use_gpu=False,\n",
    ")\n"
   ]
  },
  {
   "cell_type": "code",
   "execution_count": 35,
   "metadata": {},
   "outputs": [],
   "source": [
    "# !mkdir -p models/entityembed\n",
    "!cp {model.trainer.checkpoint_callback.best_model_path} models/entityembed/ee-model.ckpt"
   ]
  },
  {
   "cell_type": "code",
   "execution_count": 30,
   "metadata": {},
   "outputs": [],
   "source": [
    "path = \"models/entityembed/\"\n",
    "\n",
    "with open(path+ 'ee-train-records.json', 'w') as f:\n",
    "    json.dump(datamodule.train_record_dict, f, indent=4)\n",
    "\n",
    "with open(path+ 'ee-valid-records.json', 'w') as f:\n",
    "    json.dump(datamodule.valid_record_dict, f, indent=4)\n",
    "\n",
    "with open(path+ 'ee-test-records.json', 'w') as f:\n",
    "    json.dump(datamodule.test_record_dict, f, indent=4)"
   ]
  },
  {
   "cell_type": "code",
   "execution_count": 23,
   "metadata": {},
   "outputs": [
    {
     "name": "stdout",
     "output_type": "stream",
     "text": [
      "setting embedding size to 100\n"
     ]
    }
   ],
   "source": [
    "model = EntityEmbedLocal.load_from_checkpoint('models/epoch=1-step=1832-v7.ckpt')"
   ]
  },
  {
   "cell_type": "markdown",
   "metadata": {},
   "source": [
    "`EntityEmbed.fit` keeps only the weights of the best validation model. With them, we can check the best performance on validation set:"
   ]
  },
  {
   "cell_type": "code",
   "execution_count": 31,
   "metadata": {
    "scrolled": true
   },
   "outputs": [
    {
     "data": {
      "text/plain": [
       "{'valid_f1_at_0.3': 0.0,\n",
       " 'valid_f1_at_0.5': 0.0,\n",
       " 'valid_f1_at_0.7': 0.0,\n",
       " 'valid_pair_entity_ratio_at_0.3': 10.15106931594115,\n",
       " 'valid_pair_entity_ratio_at_0.5': 4.946155012892461,\n",
       " 'valid_pair_entity_ratio_at_0.7': 1.6895191870165327,\n",
       " 'valid_precision_at_0.3': 0.0,\n",
       " 'valid_precision_at_0.5': 0.0,\n",
       " 'valid_precision_at_0.7': 0.0,\n",
       " 'valid_recall_at_0.3': 0.0,\n",
       " 'valid_recall_at_0.5': 0.0,\n",
       " 'valid_recall_at_0.7': 0.0}"
      ]
     },
     "execution_count": 31,
     "metadata": {},
     "output_type": "execute_result"
    }
   ],
   "source": [
    "model.validate(datamodule) "
   ]
  },
  {
   "cell_type": "markdown",
   "metadata": {},
   "source": [
    "And we can check which fields are most important for the final embedding:"
   ]
  },
  {
   "cell_type": "code",
   "execution_count": 28,
   "metadata": {},
   "outputs": [
    {
     "data": {
      "text/plain": [
       "{'merchant_name': 0.2551257014274597,\n",
       " 'merchant_name_semantic': 0.22146005928516388,\n",
       " 'avg_tx_amount': 0.03779561445116997,\n",
       " 'avg_tx_amount_semantic': 0.24249973893165588,\n",
       " 'plaid_merchant': 0.07616355270147324,\n",
       " 'plaid_merchant_semantic': 0.060125213116407394,\n",
       " 'plaid_category': 0.07688859850168228,\n",
       " 'plaid_category_semantic': 0.02994149550795555}"
      ]
     },
     "execution_count": 28,
     "metadata": {},
     "output_type": "execute_result"
    }
   ],
   "source": [
    "model.get_pool_weights()"
   ]
  },
  {
   "cell_type": "markdown",
   "metadata": {},
   "source": [
    "## Testing"
   ]
  },
  {
   "cell_type": "markdown",
   "metadata": {},
   "source": [
    "Again with the best validation model, we can check the performance on the test set:"
   ]
  },
  {
   "cell_type": "code",
   "execution_count": 30,
   "metadata": {},
   "outputs": [
    {
     "name": "stderr",
     "output_type": "stream",
     "text": [
      "16:57:02 INFO:Test positive pair count: 30657\n"
     ]
    },
    {
     "data": {
      "text/plain": [
       "{'test_f1_at_0.3': 0.0,\n",
       " 'test_f1_at_0.5': 0.0,\n",
       " 'test_f1_at_0.7': 0.0,\n",
       " 'test_pair_entity_ratio_at_0.3': 17.187250554323725,\n",
       " 'test_pair_entity_ratio_at_0.5': 5.513303769401331,\n",
       " 'test_pair_entity_ratio_at_0.7': 2.3838137472283814,\n",
       " 'test_precision_at_0.3': 0.0,\n",
       " 'test_precision_at_0.5': 0.0,\n",
       " 'test_precision_at_0.7': 0.0,\n",
       " 'test_recall_at_0.3': 0.0,\n",
       " 'test_recall_at_0.5': 0.0,\n",
       " 'test_recall_at_0.7': 0.0}"
      ]
     },
     "execution_count": 30,
     "metadata": {},
     "output_type": "execute_result"
    }
   ],
   "source": [
    "model.test(datamodule)"
   ]
  },
  {
   "cell_type": "markdown",
   "metadata": {},
   "source": [
    "Entity Embed achieves Recall of ~0.99 with Pair-Entity ratio below 100 on a variety of datasets. **Entity Embed aims for high recall at the expense of precision. Therefore, this library is suited for the Blocking/Indexing stage of an Entity Resolution pipeline.**  A scalabale and noise-tolerant Blocking procedure is often the main bottleneck for performance and quality on Entity Resolution pipelines, so this library aims to solve that. Note the ANN search on embedded records returns several candidate pairs that must be filtered to find the best matching pairs, possibly with a pairwise classifier. See the [Record-Linkage-Example](./Record-Linkage-Example.ipynb) for an example of matching."
   ]
  },
  {
   "cell_type": "markdown",
   "metadata": {},
   "source": [
    "## t-sne visualization"
   ]
  },
  {
   "cell_type": "markdown",
   "metadata": {},
   "source": [
    "Let's visualize a small sample of the test embeddings and see if they look properly clustered. First, get the embedding vectors:"
   ]
  },
  {
   "cell_type": "code",
   "execution_count": 102,
   "metadata": {},
   "outputs": [
    {
     "name": "stderr",
     "output_type": "stream",
     "text": [
      "# batch embedding: 100%|██████████| 286/286 [00:57<00:00,  4.95it/s]\n"
     ]
    }
   ],
   "source": [
    "test_vector_dict = model.predict(\n",
    "    record_dict=test_record_dict,\n",
    "    batch_size=eval_batch_size\n",
    ")"
   ]
  },
  {
   "cell_type": "markdown",
   "metadata": {},
   "source": [
    "Then, produce the visualization:"
   ]
  },
  {
   "cell_type": "code",
   "execution_count": 103,
   "metadata": {},
   "outputs": [],
   "source": [
    "vis_sample_size = 10"
   ]
  },
  {
   "cell_type": "code",
   "execution_count": 104,
   "metadata": {},
   "outputs": [],
   "source": [
    "n=20\n",
    "test_cluster_dict = utils.record_dict_to_cluster_dict(test_record_dict, cluster_field)\n",
    "vis_cluster_dict = dict(sorted(test_cluster_dict.items(), key=lambda x: len(x[1]), reverse=True)[n:vis_sample_size+n])\n",
    "\n",
    "vis_x = np.stack([test_vector_dict[id_] for cluster in vis_cluster_dict.values() for id_ in cluster])\n",
    "vis_y = np.array([cluster_id for cluster_id, cluster in vis_cluster_dict.items() for __ in cluster])"
   ]
  },
  {
   "cell_type": "code",
   "execution_count": 105,
   "metadata": {},
   "outputs": [],
   "source": [
    "from sklearn.manifold import TSNE\n",
    "\n",
    "tnse = TSNE(metric='cosine', perplexity=20, square_distances=True, random_state=random_seed)\n",
    "tsne_results = tnse.fit_transform(vis_x)"
   ]
  },
  {
   "cell_type": "code",
   "execution_count": 107,
   "metadata": {
    "scrolled": false
   },
   "outputs": [
    {
     "data": {
      "image/png": "[encoded data removed]",
      "text/plain": [
       "<Figure size 1152x720 with 1 Axes>"
      ]
     },
     "metadata": {
      "needs_background": "light"
     },
     "output_type": "display_data"
    }
   ],
   "source": [
    "%matplotlib inline\n",
    "import matplotlib.pyplot as plt\n",
    "import seaborn as sns\n",
    "import itertools\n",
    "import random\n",
    "\n",
    "plt.figure(figsize=(16,10))\n",
    "ax = sns.scatterplot(\n",
    "    x=tsne_results[:,0],\n",
    "    y=tsne_results[:,1],\n",
    "    hue=vis_y,\n",
    "    palette=sns.color_palette(\"hls\", len(vis_cluster_dict.keys())),\n",
    "    legend=\"full\",\n",
    "    alpha=0.8\n",
    ")\n",
    "for id_, (x, y) in zip(itertools.chain.from_iterable(vis_cluster_dict.values()), tsne_results):\n",
    "    # text = id_\n",
    "    text = test_record_dict[id_]['alias'][:25]\n",
    "    ax.text(x + 2 , y + 2+ (5*random.random()), text)"
   ]
  },
  {
   "cell_type": "markdown",
   "metadata": {},
   "source": [
    "## Testing manually (like a production run)"
   ]
  },
  {
   "cell_type": "markdown",
   "metadata": {},
   "source": [
    "When running in production, you only have access to the trained `model` object and the production `record_dict` (without the `cluster_field` filled, of course).\n",
    "\n",
    "So let's simulate that by removing `cluster_field` from the `test_record_dict`:"
   ]
  },
  {
   "cell_type": "code",
   "execution_count": 20,
   "metadata": {},
   "outputs": [],
   "source": [
    "import copy\n",
    "\n",
    "prod_test_record_dict = copy.deepcopy(test_record_dict)\n",
    "\n",
    "for record in prod_test_record_dict.values():\n",
    "    del record[cluster_field]"
   ]
  },
  {
   "cell_type": "code",
   "execution_count": 21,
   "metadata": {},
   "outputs": [],
   "source": [
    "prod_test_record_dict = {}\n",
    "\n",
    "merchants_list = pd.read_csv('data/us_companies.csv', header=None,names=['merchant_name']).iloc[:,0].tolist()\n",
    "merchants_list\n",
    "\n",
    "merchants = pd.read_csv('data/merchants_list.csv',names=[\"merchant_name\",\"merchant_id\",\"plaid_merchant\",\"plaid_category\",\"avg_tx_amount\",\"count\"])\n",
    "merchants = merchants.sort_values('count', ascending=False).drop_duplicates(['merchant_name','merchant_id'])\n",
    "merchants.avg_tx_amount = merchants.avg_tx_amount.round()\n",
    "merchants = merchants.apply(lambda x: x.astype(str).str.lower()).reset_index()\n",
    "for current_record_id, record in merchants.iterrows():\n",
    "    prod_test_record_dict[current_record_id] = record.to_dict()\n"
   ]
  },
  {
   "cell_type": "markdown",
   "metadata": {},
   "source": [
    "Then call `predict_pairs` with some `ann_k` and `sim_threshold`:"
   ]
  },
  {
   "cell_type": "code",
   "execution_count": 24,
   "metadata": {},
   "outputs": [
    {
     "name": "stderr",
     "output_type": "stream",
     "text": [
      "# batch embedding:  69%|██████▉   | 410/592 [00:39<00:19,  9.19it/s]12:56:38 WARNING:Found out of alphabet char at val=döner, char=ö\n",
      "# batch embedding:  84%|████████▍ | 497/592 [00:48<00:08, 11.22it/s]12:56:47 WARNING:Found out of alphabet char at val=côte, char=ô\n",
      "# batch embedding: 100%|██████████| 592/592 [00:56<00:00, 10.52it/s]\n"
     ]
    },
    {
     "data": {
      "text/plain": [
       "72547"
      ]
     },
     "execution_count": 24,
     "metadata": {},
     "output_type": "execute_result"
    }
   ],
   "source": [
    "sim_threshold = 0.85\n",
    "ann_k=15\n",
    "found_pair_set = model.predict_pairs(\n",
    "    record_dict=prod_test_record_dict,\n",
    "    batch_size=eval_batch_size,\n",
    "    ann_k=ann_k,\n",
    "    sim_threshold=sim_threshold\n",
    ")\n",
    "len(found_pair_set)"
   ]
  },
  {
   "cell_type": "code",
   "execution_count": 25,
   "metadata": {},
   "outputs": [
    {
     "data": {
      "text/plain": [
       "37865"
      ]
     },
     "execution_count": 25,
     "metadata": {},
     "output_type": "execute_result"
    }
   ],
   "source": [
    "total_merchants = merchants.merchant_name.nunique()\n",
    "total_merchants\n"
   ]
  },
  {
   "cell_type": "code",
   "execution_count": null,
   "metadata": {},
   "outputs": [],
   "source": [
    "idf_df = pd.read_csv('data/idf_weights.csv')\n",
    "idf_weights = dict(zip(idf_df.token,idf_df.idf))\n"
   ]
  },
  {
   "cell_type": "code",
   "execution_count": 291,
   "metadata": {},
   "outputs": [],
   "source": [
    "def calculate_genericity(tokens_left,tokens_right):\n",
    "    tokens = tokens_left + tokens_right\n",
    "    return  (sum([1-idf_weights.get(t,1) for t in tokens])/len(tokens))\n",
    "\n",
    "def calculate_amount_similarity(l_amount, r_amount):\n",
    "    if max(l_amount,r_amount) == 0 or l_amount * r_amount < 0:\n",
    "        return False\n",
    "    l_amount, r_amount = (abs(n) for n in (l_amount, r_amount))\n",
    "    is_different_bracket = abs(l_amount - r_amount) > 10\n",
    "    is_ratio_large = (min(l_amount , r_amount)/ max(l_amount , r_amount)) < 0.8\n",
    "    return is_different_bracket or is_ratio_large\n",
    "# calculate_genericity(prod_test_record_dict.get(3256)['merchant_name'].split(),prod_test_record_dict.get(12722)['merchant_name'].split())\n",
    "# calculate_amount_similarity(82.0, -100.0)"
   ]
  },
  {
   "cell_type": "code",
   "execution_count": 302,
   "metadata": {},
   "outputs": [
    {
     "data": {
      "application/vnd.jupyter.widget-view+json": {
       "model_id": "06ea0405b6e04d07801df03e080afd60",
       "version_major": 2,
       "version_minor": 0
      },
      "text/plain": [
       "  0%|          | 0/72547 [00:00<?, ?it/s]"
      ]
     },
     "metadata": {},
     "output_type": "display_data"
    }
   ],
   "source": [
    "from scipy.sparse import csr_matrix\n",
    "from scipy.sparse.csgraph import connected_components\n",
    "from tqdm.notebook import tqdm\n",
    "\n",
    "graph = np.zeros((total_merchants,total_merchants))\n",
    "\n",
    "for (id_left, id_right, similarity) in tqdm(list(found_pair_set)):\n",
    "    is_different_category = prod_test_record_dict.get(id_left)['plaid_category'].strip() != prod_test_record_dict.get(id_right)['plaid_category'].strip()\n",
    "    genericity = calculate_genericity(prod_test_record_dict.get(id_left)['merchant_name'].split(),prod_test_record_dict.get(id_right)['merchant_name'].split())\n",
    "    is_avg_amount_different= calculate_amount_similarity(float(prod_test_record_dict.get(id_left)['avg_tx_amount']),float(prod_test_record_dict.get(id_left)['avg_tx_amount']))\n",
    "    score = similarity - (is_different_category * 0.1) - (0.5 * genericity) - (is_avg_amount_different * 0.05)\n",
    "    \n",
    "    if score >0.85 :\n",
    "        # print(prod_test_record_dict.get(id_left))\n",
    "        # print(prod_test_record_dict.get(id_right))\n",
    "        # print(score)\n",
    "        # print(\"------------------\")\n",
    "        graph[id_left,id_right] = 1\n",
    "    \n"
   ]
  },
  {
   "cell_type": "code",
   "execution_count": 304,
   "metadata": {},
   "outputs": [],
   "source": [
    "graph = csr_matrix(graph)\n",
    "# print(graph)"
   ]
  },
  {
   "cell_type": "code",
   "execution_count": 305,
   "metadata": {},
   "outputs": [
    {
     "data": {
      "text/plain": [
       "(35960, array([    0,     1,     2, ..., 35957, 35958, 35959], dtype=int32))"
      ]
     },
     "execution_count": 305,
     "metadata": {},
     "output_type": "execute_result"
    }
   ],
   "source": [
    "n_components, labels = connected_components(csgraph=graph, directed=False, return_labels=True)\n",
    "(n_components,labels)"
   ]
  },
  {
   "cell_type": "code",
   "execution_count": 306,
   "metadata": {},
   "outputs": [
    {
     "data": {
      "application/vnd.jupyter.widget-view+json": {
       "model_id": "ad663eec48b6484ca04d314230c8836a",
       "version_major": 2,
       "version_minor": 0
      },
      "text/plain": [
       "  0%|          | 0/37865 [00:00<?, ?it/s]"
      ]
     },
     "metadata": {},
     "output_type": "display_data"
    }
   ],
   "source": [
    "dup_cluster = []\n",
    "for i in tqdm(range(len(labels))):\n",
    "    dupes = list(np.where(labels==i)[0])\n",
    "    if len(dupes) > 1:\n",
    "        dup_cluster.append([prod_test_record_dict.get(key) for key in dupes])\n",
    "        "
   ]
  },
  {
   "cell_type": "code",
   "execution_count": null,
   "metadata": {},
   "outputs": [],
   "source": [
    "'\\n'.join(pd.Series(dup_cluster).iloc[0])"
   ]
  },
  {
   "cell_type": "code",
   "execution_count": 337,
   "metadata": {},
   "outputs": [],
   "source": [
    "from pandas import option_context\n",
    "\n",
    "with option_context('display.max_colwidth', 400):\n",
    "    (pd.DataFrame(dup_cluster).apply(lambda x: '\\n'.join(x.dropna().astype(str)), axis=1)).to_csv('data/dupes.csv')\n"
   ]
  },
  {
   "cell_type": "code",
   "execution_count": 32,
   "metadata": {},
   "outputs": [
    {
     "data": {
      "text/plain": [
       "1.6537699722699062"
      ]
     },
     "execution_count": 32,
     "metadata": {},
     "output_type": "execute_result"
    }
   ],
   "source": [
    "from entity_embed.evaluation import pair_entity_ratio\n",
    "\n",
    "pair_entity_ratio(len(found_pair_set), len(prod_test_record_dict))"
   ]
  },
  {
   "cell_type": "markdown",
   "metadata": {},
   "source": [
    "Let's check now the metrics of the found duplicate pairs:"
   ]
  },
  {
   "cell_type": "code",
   "execution_count": 55,
   "metadata": {},
   "outputs": [],
   "source": [
    "cos_similarity = lambda a, b: np.dot(a, b)"
   ]
  },
  {
   "cell_type": "code",
   "execution_count": 35,
   "metadata": {},
   "outputs": [],
   "source": [
    "fields = ['merchant_name',\n",
    " 'plaid_merchant',\n",
    " 'plaid_category',\n",
    " 'avg_tx_amount','count']"
   ]
  },
  {
   "cell_type": "code",
   "execution_count": 36,
   "metadata": {},
   "outputs": [
    {
     "data": {
      "application/vnd.jupyter.widget-view+json": {
       "model_id": "9f613bd140204935badae4f6c7c1a079",
       "version_major": 2,
       "version_minor": 0
      },
      "text/plain": [
       "  0%|          | 0/72542 [00:00<?, ?it/s]"
      ]
     },
     "metadata": {},
     "output_type": "display_data"
    },
    {
     "data": {
      "text/html": [
       "<div>\n",
       "<style scoped>\n",
       "    .dataframe tbody tr th:only-of-type {\n",
       "        vertical-align: middle;\n",
       "    }\n",
       "\n",
       "    .dataframe tbody tr th {\n",
       "        vertical-align: top;\n",
       "    }\n",
       "\n",
       "    .dataframe thead th {\n",
       "        text-align: right;\n",
       "    }\n",
       "</style>\n",
       "<table border=\"1\" class=\"dataframe\">\n",
       "  <thead>\n",
       "    <tr style=\"text-align: right;\">\n",
       "      <th></th>\n",
       "      <th>matching_similarity</th>\n",
       "      <th>merchant</th>\n",
       "      <th>matched_merchant</th>\n",
       "    </tr>\n",
       "  </thead>\n",
       "  <tbody>\n",
       "    <tr>\n",
       "      <th>0</th>\n",
       "      <td>0.915286</td>\n",
       "      <td>{'merchant_name': 'carroll county', 'plaid_mer...</td>\n",
       "      <td>(carroll emc, -24.0, 26)</td>\n",
       "    </tr>\n",
       "    <tr>\n",
       "      <th>1</th>\n",
       "      <td>0.868136</td>\n",
       "      <td>{'merchant_name': 'express fuels', 'plaid_merc...</td>\n",
       "      <td>(express nails, -70.0, 14)</td>\n",
       "    </tr>\n",
       "    <tr>\n",
       "      <th>2</th>\n",
       "      <td>0.905586</td>\n",
       "      <td>{'merchant_name': 'white', 'plaid_merchant': '...</td>\n",
       "      <td>(white hart inn, -8.0, 1)</td>\n",
       "    </tr>\n",
       "    <tr>\n",
       "      <th>3</th>\n",
       "      <td>0.961777</td>\n",
       "      <td>{'merchant_name': 'poke city', 'plaid_merchant...</td>\n",
       "      <td>(poke poku, -24.0, 7)</td>\n",
       "    </tr>\n",
       "    <tr>\n",
       "      <th>4</th>\n",
       "      <td>0.977440</td>\n",
       "      <td>{'merchant_name': 'new china fun', 'plaid_merc...</td>\n",
       "      <td>(new china restaurant, -22.0, 323)</td>\n",
       "    </tr>\n",
       "    <tr>\n",
       "      <th>...</th>\n",
       "      <td>...</td>\n",
       "      <td>...</td>\n",
       "      <td>...</td>\n",
       "    </tr>\n",
       "    <tr>\n",
       "      <th>72537</th>\n",
       "      <td>0.865486</td>\n",
       "      <td>{'merchant_name': 'los', 'plaid_merchant': 'na...</td>\n",
       "      <td>(los cabos, -60.0, 35)</td>\n",
       "    </tr>\n",
       "    <tr>\n",
       "      <th>72538</th>\n",
       "      <td>0.926597</td>\n",
       "      <td>{'merchant_name': 'mega bev', 'plaid_merchant'...</td>\n",
       "      <td>(mega liquor, -22.0, 121)</td>\n",
       "    </tr>\n",
       "    <tr>\n",
       "      <th>72539</th>\n",
       "      <td>0.902664</td>\n",
       "      <td>{'merchant_name': 'village inn pizza', 'plaid_...</td>\n",
       "      <td>(village restaurant, -20.0, 20)</td>\n",
       "    </tr>\n",
       "    <tr>\n",
       "      <th>72540</th>\n",
       "      <td>0.882056</td>\n",
       "      <td>{'merchant_name': 'el amigo', 'plaid_merchant'...</td>\n",
       "      <td>(el sol, -20.0, 19)</td>\n",
       "    </tr>\n",
       "    <tr>\n",
       "      <th>72541</th>\n",
       "      <td>0.859562</td>\n",
       "      <td>{'merchant_name': 'campus bo', 'plaid_merchant...</td>\n",
       "      <td>(campus bookstor building, -236.0, 5)</td>\n",
       "    </tr>\n",
       "  </tbody>\n",
       "</table>\n",
       "<p>72542 rows × 3 columns</p>\n",
       "</div>"
      ],
      "text/plain": [
       "       matching_similarity                                           merchant  \\\n",
       "0                 0.915286  {'merchant_name': 'carroll county', 'plaid_mer...   \n",
       "1                 0.868136  {'merchant_name': 'express fuels', 'plaid_merc...   \n",
       "2                 0.905586  {'merchant_name': 'white', 'plaid_merchant': '...   \n",
       "3                 0.961777  {'merchant_name': 'poke city', 'plaid_merchant...   \n",
       "4                 0.977440  {'merchant_name': 'new china fun', 'plaid_merc...   \n",
       "...                    ...                                                ...   \n",
       "72537             0.865486  {'merchant_name': 'los', 'plaid_merchant': 'na...   \n",
       "72538             0.926597  {'merchant_name': 'mega bev', 'plaid_merchant'...   \n",
       "72539             0.902664  {'merchant_name': 'village inn pizza', 'plaid_...   \n",
       "72540             0.882056  {'merchant_name': 'el amigo', 'plaid_merchant'...   \n",
       "72541             0.859562  {'merchant_name': 'campus bo', 'plaid_merchant...   \n",
       "\n",
       "                            matched_merchant  \n",
       "0                   (carroll emc, -24.0, 26)  \n",
       "1                 (express nails, -70.0, 14)  \n",
       "2                  (white hart inn, -8.0, 1)  \n",
       "3                      (poke poku, -24.0, 7)  \n",
       "4         (new china restaurant, -22.0, 323)  \n",
       "...                                      ...  \n",
       "72537                 (los cabos, -60.0, 35)  \n",
       "72538              (mega liquor, -22.0, 121)  \n",
       "72539        (village restaurant, -20.0, 20)  \n",
       "72540                    (el sol, -20.0, 19)  \n",
       "72541  (campus bookstor building, -236.0, 5)  \n",
       "\n",
       "[72542 rows x 3 columns]"
      ]
     },
     "execution_count": 36,
     "metadata": {},
     "output_type": "execute_result"
    }
   ],
   "source": [
    "from tqdm.notebook import tqdm\n",
    "duplicates = pd.DataFrame(columns=['matching_similarity','merchant','matched_merchant'])\n",
    "for (id_left, id_right, similarity) in tqdm(list(found_pair_set)):\n",
    "    merchant_a = utils.subdict(prod_test_record_dict[id_left], fields)\n",
    "    merchant_b = utils.subdict(prod_test_record_dict[id_right], fields)\n",
    "    duplicates = duplicates.append({'matching_similarity':similarity,'merchant':merchant_a,'matched_merchant':(merchant_b['merchant_name'],merchant_b['avg_tx_amount'],merchant_b['count'])},ignore_index=True)\n",
    "\n",
    "duplicates"
   ]
  },
  {
   "cell_type": "code",
   "execution_count": 45,
   "metadata": {},
   "outputs": [
    {
     "name": "stderr",
     "output_type": "stream",
     "text": [
      "/Users/adnanshahzada/opt/miniconda3/envs/entity-embed-env/lib/python3.8/site-packages/pandas/core/generic.py:5516: SettingWithCopyWarning: \n",
      "A value is trying to be set on a copy of a slice from a DataFrame.\n",
      "Try using .loc[row_indexer,col_indexer] = value instead\n",
      "\n",
      "See the caveats in the documentation: https://pandas.pydata.org/pandas-docs/stable/user_guide/indexing.html#returning-a-view-versus-a-copy\n",
      "  self[name] = value\n"
     ]
    },
    {
     "data": {
      "text/html": [
       "<div>\n",
       "<style scoped>\n",
       "    .dataframe tbody tr th:only-of-type {\n",
       "        vertical-align: middle;\n",
       "    }\n",
       "\n",
       "    .dataframe tbody tr th {\n",
       "        vertical-align: top;\n",
       "    }\n",
       "\n",
       "    .dataframe thead th {\n",
       "        text-align: right;\n",
       "    }\n",
       "</style>\n",
       "<table border=\"1\" class=\"dataframe\">\n",
       "  <thead>\n",
       "    <tr style=\"text-align: right;\">\n",
       "      <th></th>\n",
       "      <th>matching_similarity</th>\n",
       "      <th>matched_merchant</th>\n",
       "    </tr>\n",
       "    <tr>\n",
       "      <th>merchant</th>\n",
       "      <th></th>\n",
       "      <th></th>\n",
       "    </tr>\n",
       "  </thead>\n",
       "  <tbody>\n",
       "    <tr>\n",
       "      <th>{'merchant_name': \"america''s best\", 'plaid_merchant': \"america''s best\", 'plaid_category': 'food and drink restaurants ', 'avg_tx_amount': '-107.0', 'count': '1341'}</th>\n",
       "      <td>[0.931]</td>\n",
       "      <td>[(america''s best wings, -22.0, 281)]</td>\n",
       "    </tr>\n",
       "    <tr>\n",
       "      <th>{'merchant_name': \"auntie anne''s\", 'plaid_merchant': \"auntie anne''s\", 'plaid_category': 'food and drink restaurants ', 'avg_tx_amount': '-10.0', 'count': '22971'}</th>\n",
       "      <td>[0.981, 0.978]</td>\n",
       "      <td>[(auntie annes, -11.0, 17), (auntie annies, -8...</td>\n",
       "    </tr>\n",
       "    <tr>\n",
       "      <th>{'merchant_name': \"bahama buck''s\", 'plaid_merchant': \"bahama buck''s tx\", 'plaid_category': 'shops clothing and accessories ', 'avg_tx_amount': '-10.0', 'count': '39'}</th>\n",
       "      <td>[0.952]</td>\n",
       "      <td>[(bahama bucks, -11.0, 437)]</td>\n",
       "    </tr>\n",
       "    <tr>\n",
       "      <th>{'merchant_name': \"baker''s dozen\", 'plaid_merchant': \"baker''s dozen\", 'plaid_category': 'shops food and beverage store ', 'avg_tx_amount': '-12.0', 'count': '4'}</th>\n",
       "      <td>[0.901]</td>\n",
       "      <td>[(baker''s iga, -24.0, 21)]</td>\n",
       "    </tr>\n",
       "    <tr>\n",
       "      <th>{'merchant_name': \"bill''s liquor\", 'plaid_merchant': \"bill''s liquor\", 'plaid_category': 'shops food and beverage store ', 'avg_tx_amount': '-23.0', 'count': '19'}</th>\n",
       "      <td>[0.921]</td>\n",
       "      <td>[(bill''s superette, -15.0, 232)]</td>\n",
       "    </tr>\n",
       "    <tr>\n",
       "      <th>...</th>\n",
       "      <td>...</td>\n",
       "      <td>...</td>\n",
       "    </tr>\n",
       "    <tr>\n",
       "      <th>{'merchant_name': 'zoom management', 'plaid_merchant': 'nan', 'plaid_category': 'service  ', 'avg_tx_amount': '-30.0', 'count': '22'}</th>\n",
       "      <td>[0.903, 0.962, 0.935]</td>\n",
       "      <td>[(zoom tan, -23.0, 208), (zoom mart, -19.0, 14...</td>\n",
       "    </tr>\n",
       "    <tr>\n",
       "      <th>{'merchant_name': 'zoom mart', 'plaid_merchant': 'nan', 'plaid_category': 'service  ', 'avg_tx_amount': '-19.0', 'count': '14'}</th>\n",
       "      <td>[0.95, 0.926]</td>\n",
       "      <td>[(zoom.us, -16.0, 513), (zoom tan, -23.0, 208)]</td>\n",
       "    </tr>\n",
       "    <tr>\n",
       "      <th>{'merchant_name': 'zoom tan', 'plaid_merchant': 'zoom tan', 'plaid_category': 'service personal care ', 'avg_tx_amount': '-23.0', 'count': '208'}</th>\n",
       "      <td>[0.927]</td>\n",
       "      <td>[(zoom.us, -16.0, 513)]</td>\n",
       "    </tr>\n",
       "    <tr>\n",
       "      <th>{'merchant_name': 'zoom', 'plaid_merchant': 'nan', 'plaid_category': 'service  ', 'avg_tx_amount': '-19.0', 'count': '99'}</th>\n",
       "      <td>[0.964, 0.985, 0.966, 0.933, 0.922, 0.969]</td>\n",
       "      <td>[(zoom.us, -16.0, 513), (zoom mart, -19.0, 14)...</td>\n",
       "    </tr>\n",
       "    <tr>\n",
       "      <th>{'merchant_name': 'zt', 'plaid_merchant': 'nan', 'plaid_category': 'transfer debit ', 'avg_tx_amount': '-11.0', 'count': '139'}</th>\n",
       "      <td>[0.98]</td>\n",
       "      <td>[(zt 645, -12.0, 14)]</td>\n",
       "    </tr>\n",
       "  </tbody>\n",
       "</table>\n",
       "<p>9918 rows × 2 columns</p>\n",
       "</div>"
      ],
      "text/plain": [
       "                                                                           matching_similarity  \\\n",
       "merchant                                                                                         \n",
       "{'merchant_name': \"america''s best\", 'plaid_mer...                                     [0.931]   \n",
       "{'merchant_name': \"auntie anne''s\", 'plaid_merc...                              [0.981, 0.978]   \n",
       "{'merchant_name': \"bahama buck''s\", 'plaid_merc...                                     [0.952]   \n",
       "{'merchant_name': \"baker''s dozen\", 'plaid_merc...                                     [0.901]   \n",
       "{'merchant_name': \"bill''s liquor\", 'plaid_merc...                                     [0.921]   \n",
       "...                                                                                        ...   \n",
       "{'merchant_name': 'zoom management', 'plaid_mer...                       [0.903, 0.962, 0.935]   \n",
       "{'merchant_name': 'zoom mart', 'plaid_merchant'...                               [0.95, 0.926]   \n",
       "{'merchant_name': 'zoom tan', 'plaid_merchant':...                                     [0.927]   \n",
       "{'merchant_name': 'zoom', 'plaid_merchant': 'na...  [0.964, 0.985, 0.966, 0.933, 0.922, 0.969]   \n",
       "{'merchant_name': 'zt', 'plaid_merchant': 'nan'...                                      [0.98]   \n",
       "\n",
       "                                                                                     matched_merchant  \n",
       "merchant                                                                                               \n",
       "{'merchant_name': \"america''s best\", 'plaid_mer...              [(america''s best wings, -22.0, 281)]  \n",
       "{'merchant_name': \"auntie anne''s\", 'plaid_merc...  [(auntie annes, -11.0, 17), (auntie annies, -8...  \n",
       "{'merchant_name': \"bahama buck''s\", 'plaid_merc...                       [(bahama bucks, -11.0, 437)]  \n",
       "{'merchant_name': \"baker''s dozen\", 'plaid_merc...                        [(baker''s iga, -24.0, 21)]  \n",
       "{'merchant_name': \"bill''s liquor\", 'plaid_merc...                  [(bill''s superette, -15.0, 232)]  \n",
       "...                                                                                               ...  \n",
       "{'merchant_name': 'zoom management', 'plaid_mer...  [(zoom tan, -23.0, 208), (zoom mart, -19.0, 14...  \n",
       "{'merchant_name': 'zoom mart', 'plaid_merchant'...    [(zoom.us, -16.0, 513), (zoom tan, -23.0, 208)]  \n",
       "{'merchant_name': 'zoom tan', 'plaid_merchant':...                            [(zoom.us, -16.0, 513)]  \n",
       "{'merchant_name': 'zoom', 'plaid_merchant': 'na...  [(zoom.us, -16.0, 513), (zoom mart, -19.0, 14)...  \n",
       "{'merchant_name': 'zt', 'plaid_merchant': 'nan'...                              [(zt 645, -12.0, 14)]  \n",
       "\n",
       "[9918 rows x 2 columns]"
      ]
     },
     "execution_count": 45,
     "metadata": {},
     "output_type": "execute_result"
    }
   ],
   "source": [
    "duplicates_strong = duplicates[duplicates.matching_similarity>0.9]\n",
    "duplicates_strong.matching_similarity = duplicates_strong.matching_similarity.apply(lambda x: round(x,3))\n",
    "duplicates_strong.merchant = duplicates_strong.merchant.astype(str)\n",
    "result =duplicates_strong.groupby('merchant').agg(lambda x: list(x))\n",
    "result.to_csv('data/duplicate_merchants_ct.csv')\n",
    "result"
   ]
  },
  {
   "cell_type": "code",
   "execution_count": 55,
   "metadata": {},
   "outputs": [
    {
     "data": {
      "text/plain": [
       "[('Baho Convenience Store', False),\n",
       " ('Hilton Payroll', False),\n",
       " ('Fast Shop', False),\n",
       " ('Imperial Mart', False),\n",
       " ('Bitterroot Beanery', False),\n",
       " ('Piedmont Natural Gas', False),\n",
       " ('The Island Shoppe', False),\n",
       " ('Americas Best Wings', False),\n",
       " ('Rockland Nails', False),\n",
       " ('Irobot Corporation', False),\n",
       " ('Khalil`s Food & Liquor', False),\n",
       " ('Quality Auto Repair', False),\n",
       " ('Jackpot Mini Mart', False),\n",
       " ('Westside Convenience', False),\n",
       " ('H And M Mini Sto', False),\n",
       " ('Patel Corner Pantry', False),\n",
       " ('Guys Pizza Downtown', False),\n",
       " ('Xingyu Restaurant Inc', False),\n",
       " ('5801 Video Lounge & Caf', False),\n",
       " ('Just Salad', True)]"
      ]
     },
     "execution_count": 55,
     "metadata": {},
     "output_type": "execute_result"
    }
   ],
   "source": [
    "idx_a += 20\n",
    "idx_b += 20\n",
    "[(r,r in merchants_list) for  r in dataset.iloc[idx_a:idx_b,:]['merchant_name'].tolist()]"
   ]
  },
  {
   "cell_type": "code",
   "execution_count": 144,
   "metadata": {},
   "outputs": [
    {
     "data": {
      "text/plain": [
       "(0.7512554540215691, 0.12059282165133735)"
      ]
     },
     "execution_count": 144,
     "metadata": {},
     "output_type": "execute_result"
    }
   ],
   "source": [
    "from entity_embed.evaluation import precision_and_recall\n",
    "\n",
    "precision_and_recall(found_pair_set, datamodule.test_pos_pair_set)"
   ]
  },
  {
   "cell_type": "markdown",
   "metadata": {},
   "source": [
    "Same numbers of the `trainer.test`, so our manual testing is fine."
   ]
  },
  {
   "cell_type": "markdown",
   "metadata": {},
   "source": [
    "Finally, we can check the false positives and negatives to see if they're really difficult:"
   ]
  },
  {
   "cell_type": "code",
   "execution_count": 145,
   "metadata": {},
   "outputs": [
    {
     "data": {
      "text/plain": [
       "12086"
      ]
     },
     "execution_count": 145,
     "metadata": {},
     "output_type": "execute_result"
    }
   ],
   "source": [
    "false_positives = list(found_pair_set - datamodule.test_pos_pair_set)\n",
    "len(false_positives)"
   ]
  },
  {
   "cell_type": "code",
   "execution_count": 146,
   "metadata": {},
   "outputs": [
    {
     "data": {
      "text/plain": [
       "266186"
      ]
     },
     "execution_count": 146,
     "metadata": {},
     "output_type": "execute_result"
    }
   ],
   "source": [
    "false_negatives = list(datamodule.test_pos_pair_set - found_pair_set)\n",
    "len(false_negatives)"
   ]
  },
  {
   "cell_type": "code",
   "execution_count": null,
   "metadata": {},
   "outputs": [],
   "source": [
    "true_positives = list(found_pair_set - datamodule.test_pos_pair_set)\n",
    "len(false_positives)\n",
    "for (id_left, id_right) in list(found_pair_set)[:10]:\n",
    "    display(\n",
    "        (\n",
    "            record_dict[id_left],\n",
    "            record_dict[id_right],\n",
    "            cos_similarity(test_vector_dict[id_left], test_vector_dict[id_right]),\n",
    "            utils.subdict(record_dict[id_left], field_list), utils.subdict(record_dict[id_right], field_list)\n",
    "        )\n",
    "    )"
   ]
  },
  {
   "cell_type": "code",
   "execution_count": 147,
   "metadata": {
    "scrolled": true
   },
   "outputs": [
    {
     "data": {
      "text/plain": [
       "(0.87486815,\n",
       " {'alias': 'r&b tea', 'plaid_merchant': 'r&b tea', 'avg_tx_amount': '-6.35'},\n",
       " {'alias': 'r & gs food basket',\n",
       "  'plaid_merchant': 'r & gs food basket',\n",
       "  'avg_tx_amount': '-21.83'})"
      ]
     },
     "metadata": {},
     "output_type": "display_data"
    },
    {
     "data": {
      "text/plain": [
       "(0.8825392,\n",
       " {'alias': 'country wide insurance',\n",
       "  'plaid_merchant': 'country wide insurance',\n",
       "  'avg_tx_amount': '-284.13'},\n",
       " {'alias': 'country convenie',\n",
       "  'plaid_merchant': 'country convenie',\n",
       "  'avg_tx_amount': '-14.1'})"
      ]
     },
     "metadata": {},
     "output_type": "display_data"
    },
    {
     "data": {
      "text/plain": [
       "(0.905407,\n",
       " {'alias': 'china town 1', 'plaid_merchant': 'nan', 'avg_tx_amount': '-25.0'},\n",
       " {'alias': 'china delight chinese',\n",
       "  'plaid_merchant': 'china delight chinese',\n",
       "  'avg_tx_amount': '-21.56'})"
      ]
     },
     "metadata": {},
     "output_type": "display_data"
    },
    {
     "data": {
      "text/plain": [
       "(0.70510805,\n",
       " {'alias': 'blue bay',\n",
       "  'plaid_merchant': 'blue bay',\n",
       "  'avg_tx_amount': '-12.96'},\n",
       " {'alias': 'blue moon tap house',\n",
       "  'plaid_merchant': 'blue moon tap house',\n",
       "  'avg_tx_amount': '-26.07'})"
      ]
     },
     "metadata": {},
     "output_type": "display_data"
    },
    {
     "data": {
      "text/plain": [
       "(0.9555845,\n",
       " {'alias': 'lincoln highway',\n",
       "  'plaid_merchant': 'lincoln highway',\n",
       "  'avg_tx_amount': '-11.24'},\n",
       " {'alias': 'lincoln c mart',\n",
       "  'plaid_merchant': 'lincoln c mart',\n",
       "  'avg_tx_amount': '-24.99'})"
      ]
     },
     "metadata": {},
     "output_type": "display_data"
    },
    {
     "data": {
      "text/plain": [
       "(0.95284754,\n",
       " {'alias': 'quick pick grocery ltd',\n",
       "  'plaid_merchant': 'nan',\n",
       "  'avg_tx_amount': '-8.98'},\n",
       " {'alias': 'quick pick atlanta',\n",
       "  'plaid_merchant': 'quick pick',\n",
       "  'avg_tx_amount': '-5.26'})"
      ]
     },
     "metadata": {},
     "output_type": "display_data"
    },
    {
     "data": {
      "text/plain": [
       "(0.8914383,\n",
       " {'alias': 'china gourmet house',\n",
       "  'plaid_merchant': 'china gourmet house',\n",
       "  'avg_tx_amount': '-23.85'},\n",
       " {'alias': 'china town 1', 'plaid_merchant': 'nan', 'avg_tx_amount': '-36.75'})"
      ]
     },
     "metadata": {},
     "output_type": "display_data"
    },
    {
     "data": {
      "text/plain": [
       "(0.9162289,\n",
       " {'alias': 'taco heads fort worth',\n",
       "  'plaid_merchant': 'taco heads fort worth',\n",
       "  'avg_tx_amount': '-18.76'},\n",
       " {'alias': 'taco monster',\n",
       "  'plaid_merchant': 'taco monster',\n",
       "  'avg_tx_amount': '-29.71'})"
      ]
     },
     "metadata": {},
     "output_type": "display_data"
    },
    {
     "data": {
      "text/plain": [
       "(0.95120347,\n",
       " {'alias': 'noodles pho u',\n",
       "  'plaid_merchant': 'noodles pho u',\n",
       "  'avg_tx_amount': '-33.58'},\n",
       " {'alias': 'noodles & company',\n",
       "  'plaid_merchant': 'noodles & company',\n",
       "  'avg_tx_amount': '-30.15'})"
      ]
     },
     "metadata": {},
     "output_type": "display_data"
    },
    {
     "data": {
      "text/plain": [
       "(0.9241347,\n",
       " {'alias': 'noodles and dumplings',\n",
       "  'plaid_merchant': 'noodles and dumplings',\n",
       "  'avg_tx_amount': '-48.14'},\n",
       " {'alias': 'noodles & company',\n",
       "  'plaid_merchant': 'noodles & company',\n",
       "  'avg_tx_amount': '-8.7'})"
      ]
     },
     "metadata": {},
     "output_type": "display_data"
    }
   ],
   "source": [
    "for (id_left, id_right) in false_positives[:10]:\n",
    "    display(\n",
    "        (\n",
    "            cos_similarity(test_vector_dict[id_left], test_vector_dict[id_right]),\n",
    "            utils.subdict(record_dict[id_left], field_list), utils.subdict(record_dict[id_right], field_list)\n",
    "        )\n",
    "    )"
   ]
  },
  {
   "cell_type": "code",
   "execution_count": 149,
   "metadata": {
    "scrolled": true
   },
   "outputs": [
    {
     "data": {
      "text/plain": [
       "(0.99850756,\n",
       " {'alias': 'kwik trip',\n",
       "  'plaid_merchant': 'kwik trip',\n",
       "  'avg_tx_amount': '-20.42'},\n",
       " {'alias': 'kwik trip',\n",
       "  'plaid_merchant': 'kwik trip',\n",
       "  'avg_tx_amount': '-18.5'})"
      ]
     },
     "metadata": {},
     "output_type": "display_data"
    },
    {
     "data": {
      "text/plain": [
       "(0.99695677,\n",
       " {'alias': 'rent-a-center',\n",
       "  'plaid_merchant': 'rent-a-center',\n",
       "  'avg_tx_amount': '-121.85'},\n",
       " {'alias': 'rent-a-center',\n",
       "  'plaid_merchant': 'rent-a-center',\n",
       "  'avg_tx_amount': '-38.35'})"
      ]
     },
     "metadata": {},
     "output_type": "display_data"
    },
    {
     "data": {
      "text/plain": [
       "(0.9966733,\n",
       " {'alias': 'kwik trip',\n",
       "  'plaid_merchant': 'kwik trip',\n",
       "  'avg_tx_amount': '-17.18'},\n",
       " {'alias': 'kwik trip',\n",
       "  'plaid_merchant': 'kwik trip',\n",
       "  'avg_tx_amount': '-26.18'})"
      ]
     },
     "metadata": {},
     "output_type": "display_data"
    },
    {
     "data": {
      "text/plain": [
       "(0.97021323,\n",
       " {'alias': 'cardtronics', 'plaid_merchant': 'nan', 'avg_tx_amount': '-43.5'},\n",
       " {'alias': 'cardtronics',\n",
       "  'plaid_merchant': 'cardtronics',\n",
       "  'avg_tx_amount': '-41.16'})"
      ]
     },
     "metadata": {},
     "output_type": "display_data"
    },
    {
     "data": {
      "text/plain": [
       "(0.9971533,\n",
       " {'alias': 'stop & shop',\n",
       "  'plaid_merchant': 'stop & shop',\n",
       "  'avg_tx_amount': '-23.7'},\n",
       " {'alias': 'stop & shop',\n",
       "  'plaid_merchant': 'stop & shop',\n",
       "  'avg_tx_amount': '-7.62'})"
      ]
     },
     "metadata": {},
     "output_type": "display_data"
    },
    {
     "data": {
      "text/plain": [
       "(0.99700713,\n",
       " {'alias': 'wawa', 'plaid_merchant': 'wawa', 'avg_tx_amount': '-18.72'},\n",
       " {'alias': 'wawa', 'plaid_merchant': 'wawa', 'avg_tx_amount': '-20.54'})"
      ]
     },
     "metadata": {},
     "output_type": "display_data"
    },
    {
     "data": {
      "text/plain": [
       "(0.9975728,\n",
       " {'alias': \"dave & buster''s\",\n",
       "  'plaid_merchant': 'dave & busters',\n",
       "  'avg_tx_amount': '-35.75'},\n",
       " {'alias': \"dave & buster''s\",\n",
       "  'plaid_merchant': 'dave & busters',\n",
       "  'avg_tx_amount': '-77.44'})"
      ]
     },
     "metadata": {},
     "output_type": "display_data"
    },
    {
     "data": {
      "text/plain": [
       "(0.9961077,\n",
       " {'alias': 'kwik trip',\n",
       "  'plaid_merchant': 'kwik trip',\n",
       "  'avg_tx_amount': '-14.02'},\n",
       " {'alias': 'kwik trip',\n",
       "  'plaid_merchant': 'kwik trip',\n",
       "  'avg_tx_amount': '-9.2'})"
      ]
     },
     "metadata": {},
     "output_type": "display_data"
    },
    {
     "data": {
      "text/plain": [
       "(0.99612856,\n",
       " {'alias': \"dave & buster''s\",\n",
       "  'plaid_merchant': 'dave & busters',\n",
       "  'avg_tx_amount': '-46.28'},\n",
       " {'alias': \"dave & buster''s\",\n",
       "  'plaid_merchant': \"dave & buster''s\",\n",
       "  'avg_tx_amount': '-33.63'})"
      ]
     },
     "metadata": {},
     "output_type": "display_data"
    },
    {
     "data": {
      "text/plain": [
       "(0.9968643,\n",
       " {'alias': 'tractor supply',\n",
       "  'plaid_merchant': 'tractor supply',\n",
       "  'avg_tx_amount': '-28.6'},\n",
       " {'alias': 'tractor supply',\n",
       "  'plaid_merchant': 'tractor supply',\n",
       "  'avg_tx_amount': '-54.1'})"
      ]
     },
     "metadata": {},
     "output_type": "display_data"
    },
    {
     "data": {
      "text/plain": [
       "(0.9972248,\n",
       " {'alias': 'stop & shop',\n",
       "  'plaid_merchant': 'stop & shop',\n",
       "  'avg_tx_amount': '-32.71'},\n",
       " {'alias': 'stop & shop',\n",
       "  'plaid_merchant': 'stop & shop',\n",
       "  'avg_tx_amount': '-10.57'})"
      ]
     },
     "metadata": {},
     "output_type": "display_data"
    },
    {
     "data": {
      "text/plain": [
       "(0.9969662,\n",
       " {'alias': 'cardtronics',\n",
       "  'plaid_merchant': 'cardtronics',\n",
       "  'avg_tx_amount': '-184.65'},\n",
       " {'alias': 'cardtronics',\n",
       "  'plaid_merchant': 'cardtronics',\n",
       "  'avg_tx_amount': '-52.5'})"
      ]
     },
     "metadata": {},
     "output_type": "display_data"
    },
    {
     "data": {
      "text/plain": [
       "(0.9916726,\n",
       " {'alias': 'urban air killeen',\n",
       "  'plaid_merchant': 'urban air killeen',\n",
       "  'avg_tx_amount': '-36.15'},\n",
       " {'alias': 'urban air',\n",
       "  'plaid_merchant': 'urban air',\n",
       "  'avg_tx_amount': '-19.75'})"
      ]
     },
     "metadata": {},
     "output_type": "display_data"
    },
    {
     "data": {
      "text/plain": [
       "(0.9962817,\n",
       " {'alias': 'stop & shop',\n",
       "  'plaid_merchant': 'stop & shop',\n",
       "  'avg_tx_amount': '-98.06'},\n",
       " {'alias': 'stop & shop',\n",
       "  'plaid_merchant': 'stop & shop',\n",
       "  'avg_tx_amount': '-10.69'})"
      ]
     },
     "metadata": {},
     "output_type": "display_data"
    },
    {
     "data": {
      "text/plain": [
       "(0.997394,\n",
       " {'alias': 'stop & shop',\n",
       "  'plaid_merchant': 'stop & shop',\n",
       "  'avg_tx_amount': '-5.0'},\n",
       " {'alias': 'stop & shop',\n",
       "  'plaid_merchant': 'stop & shop',\n",
       "  'avg_tx_amount': '-7.48'})"
      ]
     },
     "metadata": {},
     "output_type": "display_data"
    },
    {
     "data": {
      "text/plain": [
       "(0.99658275,\n",
       " {'alias': 'rent-a-center',\n",
       "  'plaid_merchant': 'rent-a-center',\n",
       "  'avg_tx_amount': '-152.17'},\n",
       " {'alias': 'rent-a-center',\n",
       "  'plaid_merchant': 'rent-a-center',\n",
       "  'avg_tx_amount': '-344.69'})"
      ]
     },
     "metadata": {},
     "output_type": "display_data"
    },
    {
     "data": {
      "text/plain": [
       "(0.99650383,\n",
       " {'alias': 'wawa', 'plaid_merchant': 'wawa', 'avg_tx_amount': '-24.02'},\n",
       " {'alias': 'wawa', 'plaid_merchant': 'wawa', 'avg_tx_amount': '-6.12'})"
      ]
     },
     "metadata": {},
     "output_type": "display_data"
    },
    {
     "data": {
      "text/plain": [
       "(0.997722,\n",
       " {'alias': 'krispy kreme',\n",
       "  'plaid_merchant': 'krispy kreme',\n",
       "  'avg_tx_amount': '-12.15'},\n",
       " {'alias': 'krispy kreme',\n",
       "  'plaid_merchant': 'krispy kreme',\n",
       "  'avg_tx_amount': '-11.94'})"
      ]
     },
     "metadata": {},
     "output_type": "display_data"
    },
    {
     "data": {
      "text/plain": [
       "(0.99689335,\n",
       " {'alias': 'rent-a-center',\n",
       "  'plaid_merchant': 'rent-a-center',\n",
       "  'avg_tx_amount': '-8.94'},\n",
       " {'alias': 'rent-a-center',\n",
       "  'plaid_merchant': 'rent-a-center',\n",
       "  'avg_tx_amount': '-58.77'})"
      ]
     },
     "metadata": {},
     "output_type": "display_data"
    },
    {
     "data": {
      "text/plain": [
       "(0.9976802,\n",
       " {'alias': 'cardtronics',\n",
       "  'plaid_merchant': 'cardtronics',\n",
       "  'avg_tx_amount': '-40.0'},\n",
       " {'alias': 'cardtronics',\n",
       "  'plaid_merchant': 'cardtronics',\n",
       "  'avg_tx_amount': '-52.72'})"
      ]
     },
     "metadata": {},
     "output_type": "display_data"
    },
    {
     "data": {
      "text/plain": [
       "(0.99777186,\n",
       " {'alias': 'chipotle mexican grill',\n",
       "  'plaid_merchant': 'chipotle mexican grill',\n",
       "  'avg_tx_amount': '-14.17'},\n",
       " {'alias': 'chipotle mexican grill',\n",
       "  'plaid_merchant': 'chipotle mexican grill',\n",
       "  'avg_tx_amount': '-12.07'})"
      ]
     },
     "metadata": {},
     "output_type": "display_data"
    },
    {
     "data": {
      "text/plain": [
       "(0.9955483,\n",
       " {'alias': 'wawa', 'plaid_merchant': 'wawa', 'avg_tx_amount': '-12.93'},\n",
       " {'alias': 'wawa', 'plaid_merchant': 'wawa', 'avg_tx_amount': '-23.91'})"
      ]
     },
     "metadata": {},
     "output_type": "display_data"
    },
    {
     "data": {
      "text/plain": [
       "(0.9961946,\n",
       " {'alias': \"dave & buster''s\",\n",
       "  'plaid_merchant': \"dave & buster''s\",\n",
       "  'avg_tx_amount': '-38.62'},\n",
       " {'alias': \"dave & buster''s\",\n",
       "  'plaid_merchant': \"dave & buster''s\",\n",
       "  'avg_tx_amount': '-70.86'})"
      ]
     },
     "metadata": {},
     "output_type": "display_data"
    },
    {
     "data": {
      "text/plain": [
       "(0.9975935,\n",
       " {'alias': 'holiday inn',\n",
       "  'plaid_merchant': 'holiday inn',\n",
       "  'avg_tx_amount': '-296.98'},\n",
       " {'alias': 'holiday inn',\n",
       "  'plaid_merchant': 'holiday inn',\n",
       "  'avg_tx_amount': '-39.1'})"
      ]
     },
     "metadata": {},
     "output_type": "display_data"
    },
    {
     "data": {
      "text/plain": [
       "(0.9973572,\n",
       " {'alias': 'wawa', 'plaid_merchant': 'wawa', 'avg_tx_amount': '-48.81'},\n",
       " {'alias': 'wawa', 'plaid_merchant': 'wawa', 'avg_tx_amount': '-8.24'})"
      ]
     },
     "metadata": {},
     "output_type": "display_data"
    },
    {
     "data": {
      "text/plain": [
       "(0.99457943,\n",
       " {'alias': 'wawa', 'plaid_merchant': 'wawa', 'avg_tx_amount': '-12.56'},\n",
       " {'alias': 'wawa', 'plaid_merchant': 'wawa', 'avg_tx_amount': '-36.24'})"
      ]
     },
     "metadata": {},
     "output_type": "display_data"
    },
    {
     "data": {
      "text/plain": [
       "(0.9984803,\n",
       " {'alias': 'kwik trip',\n",
       "  'plaid_merchant': 'kwik trip',\n",
       "  'avg_tx_amount': '-25.21'},\n",
       " {'alias': 'kwik trip',\n",
       "  'plaid_merchant': 'kwik trip',\n",
       "  'avg_tx_amount': '-28.34'})"
      ]
     },
     "metadata": {},
     "output_type": "display_data"
    },
    {
     "data": {
      "text/plain": [
       "(0.97368807,\n",
       " {'alias': 'cardtronics', 'plaid_merchant': 'nan', 'avg_tx_amount': '-51.75'},\n",
       " {'alias': 'cardtronics',\n",
       "  'plaid_merchant': 'cardtronics',\n",
       "  'avg_tx_amount': '-89.69'})"
      ]
     },
     "metadata": {},
     "output_type": "display_data"
    },
    {
     "data": {
      "text/plain": [
       "(0.9977134,\n",
       " {'alias': 'gulf oil',\n",
       "  'plaid_merchant': 'gulf oil',\n",
       "  'avg_tx_amount': '-19.08'},\n",
       " {'alias': 'gulf oil',\n",
       "  'plaid_merchant': 'gulf oil',\n",
       "  'avg_tx_amount': '-34.91'})"
      ]
     },
     "metadata": {},
     "output_type": "display_data"
    },
    {
     "data": {
      "text/plain": [
       "(0.9969918,\n",
       " {'alias': 'marshalls',\n",
       "  'plaid_merchant': 'marshalls',\n",
       "  'avg_tx_amount': '-76.19'},\n",
       " {'alias': 'marshalls',\n",
       "  'plaid_merchant': 'marshalls',\n",
       "  'avg_tx_amount': '-43.74'})"
      ]
     },
     "metadata": {},
     "output_type": "display_data"
    }
   ],
   "source": [
    "for (id_left, id_right) in false_negatives[:30]:\n",
    "    display(\n",
    "        (\n",
    "            cos_similarity(test_vector_dict[id_left], test_vector_dict[id_right]),\n",
    "            utils.subdict(record_dict[id_left], field_list), utils.subdict(record_dict[id_right], field_list)\n",
    "        )\n",
    "    )"
   ]
  }
 ],
 "metadata": {
  "kernelspec": {
   "display_name": "Python 3.8.13",
   "language": "python",
   "name": "python3"
  },
  "language_info": {
   "codemirror_mode": {
    "name": "ipython",
    "version": 3
   },
   "file_extension": ".py",
   "mimetype": "text/x-python",
   "name": "python",
   "nbconvert_exporter": "python",
   "pygments_lexer": "ipython3",
   "version": "3.8.13"
  },
  "vscode": {
   "interpreter": {
    "hash": "e3bb7d66ba21cc372144d4e6f3a54e31b034566124f778bc0ae068d657400bc6"
   }
  }
 },
 "nbformat": 4,
 "nbformat_minor": 4
}
